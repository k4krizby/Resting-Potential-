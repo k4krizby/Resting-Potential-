{
 "cells": [
  {
   "cell_type": "code",
   "execution_count": 82,
   "id": "a8fa3f29",
   "metadata": {},
   "outputs": [],
   "source": [
    "#Importing Libraries\n",
    "import numpy as np\n"
   ]
  },
  {
   "cell_type": "code",
   "execution_count": 83,
   "id": "e95da8fb",
   "metadata": {},
   "outputs": [],
   "source": [
    "#Use the Nernst equation to determine the resting potentials for Na+, K+, and Cl-\n",
    "\n",
    "def Temp_Kelvin (T):\n",
    "    T=T_cel+ 273.15\n",
    "    print(\"temperature in Kelvin: \", T) \n",
    "    \n",
    "def Nernst_RestingPotential_Na(Na_out,Na_in):\n",
    "    V_Na= (61.5)*np.log10((Na_out/Na_in))\n",
    "    print(\"Resting potentials for Soidum: \", V_Na) \n",
    "\n",
    "def Nernst_RestingPotential_K(K_out,K_in):\n",
    "    V_K= (61.5)*np.log10(K_out/K_in)\n",
    "    print(\"Resting potentials for Potassium ion: \", V_K)\n",
    "\n",
    "def Nernst_RestingPotential_Cl(Cl_out,Cl_in):\n",
    "    V_Cl=(-61.5)*np.log10(Cl_out/Cl_in)\n",
    "    print(\"Resting potentials for Cholride ion: \", V_Cl)"
   ]
  },
  {
   "cell_type": "code",
   "execution_count": 84,
   "id": "90b02e43",
   "metadata": {},
   "outputs": [],
   "source": [
    "# define the parameters\n",
    "\n",
    "R=8.314 #universal gas constant\n",
    "T_cel= 37     #  temperature in Kelvin (K = °C + 273.15)\n",
    "F= 96485       #Faraday's constant and is equal to 96485 C.mol-1\n",
    "\n",
    "#Extracelluar and intracellualar concentration of Sodium Ions\n",
    "Na_out=145\n",
    "Na_in=15\n",
    "\n",
    "#Extracelluar and intracellualar concentration of Potassium Ions\n",
    "K_out=5\n",
    "K_in=140\n",
    "\n",
    "#Extracelluar and intracellualar concentration of Chloride Ions\n",
    "Cl_out=110\n",
    "Cl_in=30"
   ]
  },
  {
   "cell_type": "code",
   "execution_count": 85,
   "id": "78776e0e",
   "metadata": {},
   "outputs": [
    {
     "name": "stdout",
     "output_type": "stream",
     "text": [
      "Resting potentials for Soidum:  60.59451970552656\n",
      "Resting potentials for Potassium ion:  -89.00021892754648\n",
      "Resting potentials for Cholride ion:  -34.702692971971594\n"
     ]
    }
   ],
   "source": [
    "Nernst_RestingPotential_Na(Na_out,Na_in)\n",
    "Nernst_RestingPotential_K(K_out,K_in)\n",
    "Nernst_RestingPotential_Cl(Cl_out,Cl_in)"
   ]
  },
  {
   "cell_type": "markdown",
   "id": "179df722",
   "metadata": {},
   "source": [
    "# Goldman equation to determine the resting membrane potential"
   ]
  },
  {
   "cell_type": "code",
   "execution_count": 100,
   "id": "578f6cfc",
   "metadata": {},
   "outputs": [
    {
     "name": "stdout",
     "output_type": "stream",
     "text": [
      "Resting potentials :  -62.26398403406873\n"
     ]
    }
   ],
   "source": [
    "# Parameters for giant Squid axon\n",
    "\n",
    "#Extracelluar and intracellualar concentration of Potassium Ions\n",
    "K_out=  20\n",
    "K_in= 400\n",
    "\n",
    "#Extracelluar and intracellualar concentration of Sodium Ions\n",
    "Na_out=440\n",
    "Na_in= 50 \n",
    "\n",
    "\n",
    "#Extracelluar and intracellualar concentration of Chloride Ions\n",
    "Cl_out=40\n",
    "Cl_in=560\n",
    "\n",
    "#Goldman equation to determine the resting membrane potential\n",
    "\n",
    "def Goldman_RestingPotential(K_out,Na_out,Cl_out,K_in,Na_in,Cl_in):\n",
    "    V_mem= (25.26)*np.log((1*K_out+ 0.04*Na_out+ 0.45*Cl_out)/(1*K_in+ 0.04*Na_in+ 0.45*Cl_in))\n",
    "    print(\"Resting potentials : \", V_mem) \n",
    "\n",
    "Goldman_RestingPotential(K_out,Na_out,Cl_out,K_in,Na_in,Cl_in)"
   ]
  }
 ],
 "metadata": {
  "kernelspec": {
   "display_name": "Python 3 (ipykernel)",
   "language": "python",
   "name": "python3"
  },
  "language_info": {
   "codemirror_mode": {
    "name": "ipython",
    "version": 3
   },
   "file_extension": ".py",
   "mimetype": "text/x-python",
   "name": "python",
   "nbconvert_exporter": "python",
   "pygments_lexer": "ipython3",
   "version": "3.9.12"
  }
 },
 "nbformat": 4,
 "nbformat_minor": 5
}
